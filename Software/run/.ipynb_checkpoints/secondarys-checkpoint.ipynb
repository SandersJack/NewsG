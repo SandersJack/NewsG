{
 "cells": [
  {
   "cell_type": "code",
   "execution_count": 1,
   "metadata": {},
   "outputs": [],
   "source": [
    "import uproot\n",
    "import pandas as pd\n",
    "import matplotlib.pyplot as plt\n",
    "import numpy as np"
   ]
  },
  {
   "cell_type": "code",
   "execution_count": 7,
   "metadata": {},
   "outputs": [
    {
     "name": "stdout",
     "output_type": "stream",
     "text": [
      "CPU times: user 125 ms, sys: 11.9 ms, total: 137 ms\n",
      "Wall time: 142 ms\n"
     ]
    }
   ],
   "source": [
    "%%time\n",
    "#Galactic sphere with 10000 neutrons\n",
    "branches = [\"Amplitude\", \"Risetime\", \"PrimaryProcess\",\"PrimaryVolume\",\"SecondaryParticleName\",\"SecondaryParent\",\"PrimaryVolume\",\"InitialParticleDirPhi\"]\n",
    "path = \"../simulation_secondary/jack25_5238/output/output_0.root\"\n",
    "\n",
    "dfs = uproot.pandas.iterate(path, treepath=\"simul;1\", branches=branches,flatten=False)\n",
    "\n",
    "df = pd.concat(dfs, ignore_index=True)"
   ]
  },
  {
   "cell_type": "code",
   "execution_count": 8,
   "metadata": {},
   "outputs": [
    {
     "data": {
      "text/html": [
       "<div>\n",
       "<style scoped>\n",
       "    .dataframe tbody tr th:only-of-type {\n",
       "        vertical-align: middle;\n",
       "    }\n",
       "\n",
       "    .dataframe tbody tr th {\n",
       "        vertical-align: top;\n",
       "    }\n",
       "\n",
       "    .dataframe thead th {\n",
       "        text-align: right;\n",
       "    }\n",
       "</style>\n",
       "<table border=\"1\" class=\"dataframe\">\n",
       "  <thead>\n",
       "    <tr style=\"text-align: right;\">\n",
       "      <th></th>\n",
       "      <th>Amplitude</th>\n",
       "      <th>Risetime</th>\n",
       "      <th>PrimaryProcess</th>\n",
       "      <th>PrimaryVolume</th>\n",
       "      <th>SecondaryParticleName</th>\n",
       "      <th>SecondaryParent</th>\n",
       "      <th>InitialParticleDirPhi</th>\n",
       "    </tr>\n",
       "  </thead>\n",
       "  <tbody>\n",
       "    <tr>\n",
       "      <th>0</th>\n",
       "      <td>[]</td>\n",
       "      <td>[]</td>\n",
       "      <td>[]</td>\n",
       "      <td>[]</td>\n",
       "      <td>[]</td>\n",
       "      <td>[]</td>\n",
       "      <td>[-0.24028330971886572]</td>\n",
       "    </tr>\n",
       "  </tbody>\n",
       "</table>\n",
       "</div>"
      ],
      "text/plain": [
       "  Amplitude Risetime PrimaryProcess PrimaryVolume SecondaryParticleName  \\\n",
       "0        []       []             []            []                    []   \n",
       "\n",
       "  SecondaryParent   InitialParticleDirPhi  \n",
       "0              []  [-0.24028330971886572]  "
      ]
     },
     "execution_count": 8,
     "metadata": {},
     "output_type": "execute_result"
    }
   ],
   "source": [
    "df"
   ]
  },
  {
   "cell_type": "code",
   "execution_count": 9,
   "metadata": {},
   "outputs": [
    {
     "name": "stdout",
     "output_type": "stream",
     "text": [
      "0    [-0.24028330971886572]\n",
      "Name: InitialParticleDirPhi, dtype: object\n"
     ]
    }
   ],
   "source": [
    "print(df[\"InitialParticleDirPhi\"])"
   ]
  },
  {
   "cell_type": "code",
   "execution_count": 14,
   "metadata": {},
   "outputs": [
    {
     "name": "stdout",
     "output_type": "stream",
     "text": [
      "CPU times: user 140 ms, sys: 4.91 ms, total: 145 ms\n",
      "Wall time: 150 ms\n"
     ]
    }
   ],
   "source": [
    "%%time\n",
    "#Galactic sphere with 10000 neutrons\n",
    "branches = [\"Amplitude\", \"Risetime\", \"PrimaryProcess\",\"PrimaryVolume\",\"SecondaryParticleName\",\"SecondaryParent\",\"PrimaryVolume\",\"InitialParticleDirPhi\"]\n",
    "path = \"../simulation_secondary/jack25_test13/output/output_0.root\"\n",
    "\n",
    "dfs2 = uproot.pandas.iterate(path, treepath=\"simul;1\", branches=branches,flatten=False)\n",
    "\n",
    "df2 = pd.concat(dfs2, ignore_index=True)"
   ]
  },
  {
   "cell_type": "code",
   "execution_count": 15,
   "metadata": {},
   "outputs": [
    {
     "data": {
      "text/html": [
       "<div>\n",
       "<style scoped>\n",
       "    .dataframe tbody tr th:only-of-type {\n",
       "        vertical-align: middle;\n",
       "    }\n",
       "\n",
       "    .dataframe tbody tr th {\n",
       "        vertical-align: top;\n",
       "    }\n",
       "\n",
       "    .dataframe thead th {\n",
       "        text-align: right;\n",
       "    }\n",
       "</style>\n",
       "<table border=\"1\" class=\"dataframe\">\n",
       "  <thead>\n",
       "    <tr style=\"text-align: right;\">\n",
       "      <th></th>\n",
       "      <th>Amplitude</th>\n",
       "      <th>Risetime</th>\n",
       "      <th>PrimaryProcess</th>\n",
       "      <th>PrimaryVolume</th>\n",
       "      <th>SecondaryParticleName</th>\n",
       "      <th>SecondaryParent</th>\n",
       "      <th>InitialParticleDirPhi</th>\n",
       "    </tr>\n",
       "  </thead>\n",
       "  <tbody>\n",
       "    <tr>\n",
       "      <th>0</th>\n",
       "      <td>[]</td>\n",
       "      <td>[]</td>\n",
       "      <td>[10, 10, 12]</td>\n",
       "      <td>[2, 2, 2]</td>\n",
       "      <td>[1000260570, 22, -11, -11, -11, -11, -11, -11,...</td>\n",
       "      <td>[1, 1, 4, 4, 4, 4, 4, 4, 4, 4, 4, 4, 4, 4, 4, ...</td>\n",
       "      <td>[1.8148992098593002]</td>\n",
       "    </tr>\n",
       "  </tbody>\n",
       "</table>\n",
       "</div>"
      ],
      "text/plain": [
       "  Amplitude Risetime PrimaryProcess PrimaryVolume  \\\n",
       "0        []       []   [10, 10, 12]     [2, 2, 2]   \n",
       "\n",
       "                               SecondaryParticleName  \\\n",
       "0  [1000260570, 22, -11, -11, -11, -11, -11, -11,...   \n",
       "\n",
       "                                     SecondaryParent InitialParticleDirPhi  \n",
       "0  [1, 1, 4, 4, 4, 4, 4, 4, 4, 4, 4, 4, 4, 4, 4, ...  [1.8148992098593002]  "
      ]
     },
     "execution_count": 15,
     "metadata": {},
     "output_type": "execute_result"
    }
   ],
   "source": [
    "df2"
   ]
  },
  {
   "cell_type": "code",
   "execution_count": null,
   "metadata": {},
   "outputs": [],
   "source": []
  }
 ],
 "metadata": {
  "kernelspec": {
   "display_name": "Python 3",
   "language": "python",
   "name": "python3"
  },
  "language_info": {
   "codemirror_mode": {
    "name": "ipython",
    "version": 3
   },
   "file_extension": ".py",
   "mimetype": "text/x-python",
   "name": "python",
   "nbconvert_exporter": "python",
   "pygments_lexer": "ipython3",
   "version": "3.8.2"
  }
 },
 "nbformat": 4,
 "nbformat_minor": 4
}
